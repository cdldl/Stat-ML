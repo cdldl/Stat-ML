{
 "cells": [
  {
   "cell_type": "code",
   "execution_count": 3,
   "metadata": {},
   "outputs": [],
   "source": [
    "import pandas as pd\n",
    "import numpy as np\n",
    "from sklearn.model_selection import LeaveOneOut\n",
    "from sklearn.linear_model import SGDClassifier\n",
    "from sklearn.preprocessing import StandardScaler\n",
    "from sklearn.pipeline import make_pipeline\n",
    "from sklearn.metrics import accuracy_score \n",
    "from imblearn.over_sampling import *\n",
    "from tensorflow import keras\n",
    "import tensorflow as tf\n",
    "import scipy.stats as st\n",
    "import statsmodels.api as sm\n",
    "import matplotlib\n",
    "import matplotlib.pyplot as plt\n",
    "import warnings\n",
    "from fastai_timeseries import *\n",
    "from numba import njit\n",
    "import xgboost as xgb\n",
    "np.random.seed(813306)\n",
    " \n",
    "\n",
    "df = pd.read_excel(r'classification homework.xlsx', sheet_name='Sheet1')\n",
    "X = df.iloc[:-2,2:]\n",
    "X = np.array(X.iloc[:,np.where(X.apply(lambda x: np.max(x)- np.min(x)) != 0)[0]])\n",
    "y = np.array(pd.Categorical(df.iloc[:-2,0]).codes) "
   ]
  },
  {
   "cell_type": "code",
   "execution_count": 33,
   "metadata": {},
   "outputs": [
    {
     "data": {
      "text/plain": [
       "0.8333333333333334"
      ]
     },
     "execution_count": 33,
     "metadata": {},
     "output_type": "execute_result"
    }
   ],
   "source": [
    "# Baseline\n",
    "loo = LeaveOneOut()\n",
    "loo.get_n_splits(X)\n",
    "ytests = []; ypreds = []\n",
    "for train_index, test_index in loo.split(X):\n",
    "    X_train, X_test = X[train_index], X[test_index]\n",
    "    y_train, y_test = y[train_index], y[test_index]\n",
    "    model =  make_pipeline(StandardScaler(),SGDClassifier(max_iter=1000, tol=1e-15))\n",
    "    model.fit(X=X_train, y=y_train)\n",
    "    ypreds.append(model.predict(X_test))\n",
    "    ytests.append(y_test)\n",
    "\n",
    "accuracy_score(ypreds,ytests)"
   ]
  },
  {
   "cell_type": "code",
   "execution_count": 172,
   "metadata": {},
   "outputs": [],
   "source": [
    "# Create models from data\n",
    "def best_fit_distribution(data, bins=200, ax=None):\n",
    "    \"\"\"Model data by finding best fit distribution to data\"\"\"\n",
    "    # Get histogram of original data\n",
    "    y, x = np.histogram(data, bins=bins, density=True)\n",
    "    x = (x + np.roll(x, -1))[:-1] / 2.0\n",
    "\n",
    "    # Distributions to check\n",
    "    DISTRIBUTIONS = [        \n",
    "        st.alpha,st.anglit,st.arcsine,st.beta,st.betaprime,st.bradford,st.burr,st.cauchy,st.chi,st.chi2,st.cosine,\n",
    "        st.dgamma,st.dweibull,st.erlang,st.expon,st.exponnorm,st.exponweib,st.exponpow,st.f,st.fatiguelife,st.fisk,\n",
    "        st.foldcauchy,st.foldnorm,st.frechet_r,st.frechet_l,st.genlogistic,st.genpareto,st.gennorm,st.genexpon,\n",
    "        st.genextreme,st.gausshyper,st.gamma,st.gengamma,st.genhalflogistic,st.gilbrat,st.gompertz,st.gumbel_r,\n",
    "        st.gumbel_l,st.halfcauchy,st.halflogistic,st.halfnorm,st.halfgennorm,st.hypsecant,st.invgamma,st.invgauss,\n",
    "        st.invweibull,st.johnsonsb,st.johnsonsu,st.ksone,st.kstwobign,st.laplace,st.levy,st.levy_l,st.levy_stable,\n",
    "        st.logistic,st.loggamma,st.loglaplace,st.lognorm,st.lomax,st.maxwell,st.mielke,st.nakagami,st.ncx2,st.ncf,\n",
    "        st.nct,st.norm,st.pareto,st.pearson3,st.powerlaw,st.powerlognorm,st.powernorm,st.rdist,st.reciprocal,\n",
    "        st.rayleigh,st.rice,st.recipinvgauss,st.semicircular,st.t,st.triang,st.truncexpon,st.truncnorm,st.tukeylambda,\n",
    "        st.uniform,st.vonmises,st.vonmises_line,st.wald,st.weibull_min,st.weibull_max,st.wrapcauchy\n",
    "    ]\n",
    "\n",
    "    # Best holders\n",
    "    best_distribution = st.norm\n",
    "    best_params = (0.0, 1.0)\n",
    "    best_sse = np.inf\n",
    "\n",
    "    # Estimate distribution parameters from data\n",
    "    for distribution in DISTRIBUTIONS:\n",
    "\n",
    "        # Try to fit the distribution\n",
    "        try:\n",
    "            # Ignore warnings from data that can't be fit\n",
    "            with warnings.catch_warnings():\n",
    "                warnings.filterwarnings('ignore')\n",
    "\n",
    "                # fit dist to data\n",
    "                params = distribution.fit(data)\n",
    "\n",
    "                # Separate parts of parameters\n",
    "                arg = params[:-2]\n",
    "                loc = params[-2]\n",
    "                scale = params[-1]\n",
    "\n",
    "                # Calculate fitted PDF and error with fit in distribution\n",
    "                pdf = distribution.pdf(x, loc=loc, scale=scale, *arg)\n",
    "                sse = np.sum(np.power(y - pdf, 2.0))\n",
    "\n",
    "                # if axis pass in add to plot\n",
    "                try:\n",
    "                    if ax:\n",
    "                        pd.Series(pdf, x).plot(ax=ax)\n",
    "                    end\n",
    "                except Exception:\n",
    "                    pass\n",
    "\n",
    "                # identify if this distribution is better\n",
    "                if best_sse > sse > 0:\n",
    "                    best_distribution = distribution\n",
    "                    best_params = params\n",
    "                    best_sse = sse\n",
    "\n",
    "        except Exception:\n",
    "            pass\n",
    "\n",
    "    return (best_distribution.name, best_params)\n",
    "\n",
    "def make_pdf(dist, params, size=10000):\n",
    "    \"\"\"Generate distributions's Probability Distribution Function \"\"\"\n",
    "\n",
    "    # Separate parts of parameters\n",
    "    arg = params[:-2]\n",
    "    loc = params[-2]\n",
    "    scale = params[-1]\n",
    "\n",
    "    # Get sane start and end points of distribution\n",
    "    start = dist.ppf(0.01, *arg, loc=loc, scale=scale) if arg else dist.ppf(0.01, loc=loc, scale=scale)\n",
    "    end = dist.ppf(0.99, *arg, loc=loc, scale=scale) if arg else dist.ppf(0.99, loc=loc, scale=scale)\n",
    "\n",
    "    # Build PDF and turn into pandas Series\n",
    "    x = np.linspace(start, end, size)\n",
    "    y = dist.pdf(x, loc=loc, scale=scale, *arg)\n",
    "    pdf = pd.Series(y, x)\n",
    "\n",
    "    return pdf\n",
    "\n",
    "def gen_noise(data, dists, params):\n",
    "    \"\"\"Generate distributions's Probability Distribution Function \"\"\"\n",
    "    for i in range(data.shape[1]):\n",
    "        dist = dists[i]\n",
    "        para = params[i]\n",
    "        arg = para[:-2]\n",
    "        loc = para[-2]\n",
    "        scale = para[-1]\n",
    "        # Creating noise given distribution\n",
    "        noise = 0.1 * dist.rvs(loc=loc, scale=scale, *arg,size=len(data))\n",
    "        data[:,i] += noise \n",
    "    return data\n"
   ]
  },
  {
   "cell_type": "code",
   "execution_count": 42,
   "metadata": {},
   "outputs": [
    {
     "name": "stdout",
     "output_type": "stream",
     "text": [
      "nakagami (0.23805730054933533, -6.757214229576884e-30, 0.022350070287256746)\n"
     ]
    }
   ],
   "source": [
    "# Fit best distribution\n",
    "best_fit_names = []; best_fit_params = []\n",
    "for i in range(X.shape[1]):\n",
    "    best_fit_name, best_fit_param = best_fit_distribution(X.iloc[:,i].values, 50)\n",
    "    print(best_fit_name,best_fit_param)\n",
    "    best_fit_names.append(best_fit_name) \n",
    "    best_fit_params.append(best_fit_param)"
   ]
  },
  {
   "cell_type": "code",
   "execution_count": 62,
   "metadata": {},
   "outputs": [],
   "source": [
    "### Read parameters\n",
    "para = pd.read_csv('para.csv',header=None,names=['distri','para'])\n",
    "best_dists = []; paras =[]\n",
    "for row in para.iterrows():\n",
    "    row = row[1]\n",
    "    best_dist = getattr(st, row['distri'].strip())\n",
    "    para_one = [float(i) for i in row['para'].split(',')]\n",
    "    best_dists.append(best_dist)\n",
    "    paras.append(para_one)"
   ]
  },
  {
   "cell_type": "code",
   "execution_count": 241,
   "metadata": {},
   "outputs": [
    {
     "data": {
      "text/plain": [
       "0.6060606060606061"
      ]
     },
     "execution_count": 241,
     "metadata": {},
     "output_type": "execute_result"
    }
   ],
   "source": [
    "# First approach: row-wise Augmentation and basic classifier\n",
    "AUGMENTATION = 10\n",
    "from sklearn.model_selection import KFold\n",
    "loo = LeaveOneOut()\n",
    "loo.get_n_splits(X)\n",
    "ytests = []; ypreds = []\n",
    "for train_index, test_index in loo.split(X):\n",
    "    X_train, X_test = X[train_index], X[test_index]\n",
    "    y_train, y_test = y[train_index], y[test_index]\n",
    "    gen_data = pd.DataFrame(X_train)\n",
    "    for i in range(AUGMENTATION):\n",
    "        tmp_data = gen_noise(X_train,best_dists,paras)\n",
    "        gen_data = gen_data.append(pd.DataFrame(tmp_data),ignore_index=True)\n",
    "    X_train = np.array(gen_data)\n",
    "    y_train = np.tile(y_train,AUGMENTATION + 1)\n",
    "    model =  make_pipeline(StandardScaler(),SGDClassifier(max_iter=1000, tol=1e-15))\n",
    "    model.fit(X=X_train, y=y_train)\n",
    "    ypreds.append(model.predict(X_test))\n",
    "    ytests.append(y_test)\n",
    "\n",
    "accuracy_score(ypreds,ytests) "
   ]
  },
  {
   "cell_type": "code",
   "execution_count": 34,
   "metadata": {},
   "outputs": [
    {
     "data": {
      "text/plain": [
       "0.9545454545454546"
      ]
     },
     "execution_count": 34,
     "metadata": {},
     "output_type": "execute_result"
    }
   ],
   "source": [
    "# Second approach: Column wise augmentation\n",
    "# https://arxiv.org/abs/1910.13051\n",
    "loo = LeaveOneOut()\n",
    "loo.get_n_splits(X)\n",
    "ytests = []; ypreds = []\n",
    "counter = 0\n",
    "for train_index, test_index in loo.split(X):\n",
    "    classifier = xgb.XGBClassifier(max_depth=3,\n",
    "                              learning_rate=0.1,\n",
    "                               n_estimators=100,\n",
    "                               verbosity=0,\n",
    "                               objective='multi:softprob',\n",
    "                               booster='gbtree',\n",
    "                               tree_method='auto',\n",
    "                               n_jobs=7,\n",
    "                               gpu_id=0,\n",
    "                               gamma=0,\n",
    "                               min_child_weight=1,\n",
    "                               max_delta_step=0, #4\n",
    "                               subsample=.5,\n",
    "                               colsample_bytree=1,\n",
    "                               colsample_bylevel=1,\n",
    "                               colsample_bynode=1,\n",
    "                               reg_alpha=0,\n",
    "                               reg_lambda=1,\n",
    "                               scale_pos_weight=1,\n",
    "                               base_score=0.5,\n",
    "                               random_state=0,\n",
    "                               missing=None)\n",
    "    X_train, X_test = X[train_index], X[test_index]\n",
    "    y_train, y_test = y[train_index], y[test_index]\n",
    "    kernels = generate_kernels(X.shape[1], 1000)\n",
    "    X_training_transform = apply_kernels(X_train, kernels)\n",
    "    gc.collect()\n",
    "    X_test_transform = apply_kernels(X_test, kernels)\n",
    "    gc.collect()\n",
    "    X_training_transform = pd.DataFrame(X_training_transform)\n",
    "    X_test_transform = pd.DataFrame(X_test_transform)\n",
    "    X_training_transform = X_training_transform.replace([np.inf, -np.inf], np.nan)\n",
    "    to_drop = X_training_transform.columns[X_training_transform.isna().any()]\n",
    "    X_test_transform = X_test_transform.replace([np.inf, -np.inf], np.nan)\n",
    "    to_drop2 = X_test_transform.columns[X_test_transform.isna().any()]\n",
    "    to_drop = np.concatenate((to_drop,to_drop2))\n",
    "    X_training_transform = X_training_transform.drop(to_drop,axis=1)\n",
    "    X_test_transform = X_test_transform.drop(to_drop,axis=1)\n",
    "    model =  make_pipeline(StandardScaler(),classifier)\n",
    "    model.fit(X=X_training_transform, y=y_train)\n",
    "    ypreds.append(model.predict(X_test_transform))\n",
    "    ytests.append(y_test)\n",
    "\n",
    "#accuracy_score(np.concatenate(np.array(ypreds)),np.concatenate(np.array(ytests))) \n",
    "accuracy_score(ypreds,ytests) "
   ]
  }
 ],
 "metadata": {
  "kernelspec": {
   "display_name": "Python 3",
   "language": "python",
   "name": "python3"
  },
  "language_info": {
   "codemirror_mode": {
    "name": "ipython",
    "version": 3
   },
   "file_extension": ".py",
   "mimetype": "text/x-python",
   "name": "python",
   "nbconvert_exporter": "python",
   "pygments_lexer": "ipython3",
   "version": "3.6.10"
  }
 },
 "nbformat": 4,
 "nbformat_minor": 2
}
